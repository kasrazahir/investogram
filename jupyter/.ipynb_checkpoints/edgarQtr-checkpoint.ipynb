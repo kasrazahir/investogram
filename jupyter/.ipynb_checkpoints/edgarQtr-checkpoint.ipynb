{
 "cells": [
  {
   "cell_type": "code",
   "execution_count": 2,
   "metadata": {
    "collapsed": true
   },
   "outputs": [],
   "source": [
    "import requests\n",
    "import matplotlib.pyplot as plt\n",
    "import numpy as np\n",
    "import pandas as pd\n",
    "import os.path\n",
    "from sklearn.svm import SVC\n",
    "from sklearn.utils import shuffle\n",
    "from sklearn.model_selection import train_test_split\n",
    "from sklearn.metrics import accuracy_score, confusion_matrix"
   ]
  },
  {
   "cell_type": "code",
   "execution_count": 3,
   "metadata": {
    "collapsed": false
   },
   "outputs": [],
   "source": [
    "def createFile(response, itemsToRecord, fileName, manipulateData, requiredKeys):\n",
    "                \n",
    "    if (os.path.isfile(fileName)):\n",
    "        os.remove(fileName)    \n",
    "\n",
    "    with open(fileName,'w') as file:\n",
    "        file.write('id,')\n",
    "        for value in itemsToRecord:\n",
    "            file.write(value+',')\n",
    "        file.write('\\n')\n",
    "\n",
    "    for stock, periods in response.items():\n",
    "        dataSetup = []\n",
    "        for period, periodResult in periods.items():\n",
    "            temp = {\"id\":stock+period}\n",
    "            for item in periodResult:\n",
    "                if (item) in itemsToRecord:\n",
    "                    temp[item]=periodResult[item]\n",
    "            accepted = True\n",
    "            for requirement in requiredKeys:\n",
    "                if not requirement in temp.keys():\n",
    "                    accepted = False\n",
    "            if accepted:\n",
    "                dataSetup.append(temp)\n",
    "\n",
    "        if len(dataSetup) > 0:\n",
    "            df = pd.DataFrame(dataSetup).set_index(\"id\").sort_index()\n",
    "            result = manipulateData(df)\n",
    "\n",
    "        result.to_csv(fileName, mode = 'a', header=False)"
   ]
  },
  {
   "cell_type": "code",
   "execution_count": 5,
   "metadata": {
    "collapsed": false
   },
   "outputs": [],
   "source": [
    "url = \"http://localhost:7500/edgarQtr\"\n",
    "responsefund = (requests.get(url).json())"
   ]
  },
  {
   "cell_type": "code",
   "execution_count": 6,
   "metadata": {
    "collapsed": false
   },
   "outputs": [
    {
     "name": "stdout",
     "output_type": "stream",
     "text": [
      "return results saved to fundamentalReturns.csv\n"
     ]
    }
   ],
   "source": [
    "itemsToRecord = [\n",
    "\"cashandcashequivalents\", \n",
    "\"cashfromfinancingactivities\", \n",
    "\"cashfrominvestingactivities\",\n",
    "\"cashfromoperatingactivities\",\n",
    "\"costofrevenue\",\n",
    "\"ebit\",\n",
    "\"grossprofit\",\n",
    "\"incomebeforetaxes\",\n",
    "\"interestexpense\",\n",
    "\"netincome\",\n",
    "\"propertyplantequipmentnet\",\n",
    "\"sellinggeneraladministrativeexpenses\",\n",
    "\"totalassets\",\n",
    "\"totalcurrentassets\",\n",
    "\"totalliabilities\",\n",
    "\"totalcurrentliabilities\",\n",
    "\"totallongtermdebt\",\n",
    "\"totalreceivablesnet\",\n",
    "\"totalrevenue\",\n",
    "\"totalshorttermdebt\",\n",
    "\"totalstockholdersequity\",\n",
    "] \n",
    "\n",
    "requiredFund = []\n",
    "\n",
    "fileNameFund = \"fundamentalReturns.csv\"\n",
    "\n",
    "\n",
    "\n",
    "def manipulateFunction(data):\n",
    "    return round((data[1:]/data[:-1].values) -1,3)\n",
    "     \n",
    "createFile(responsefund, itemsToRecord, fileNameFund, manipulateFunction, requiredFund)\n",
    "\n",
    "print(\"return results saved to\", fileNameFund)\n"
   ]
  },
  {
   "cell_type": "code",
   "execution_count": 15,
   "metadata": {
    "collapsed": false
   },
   "outputs": [],
   "source": [
    "url = \"http://localhost:7500/returnsP\"\n",
    "responsePrice = (requests.get(url).json())"
   ]
  },
  {
   "cell_type": "code",
   "execution_count": 16,
   "metadata": {
    "collapsed": false
   },
   "outputs": [
    {
     "name": "stdout",
     "output_type": "stream",
     "text": [
      "return results saved to priceReturns.csv\n"
     ]
    }
   ],
   "source": [
    "itemsToSavePrice = [\"0dayPrice\", \"7dayPrice\", \"14dayPrice\", \"30dayPrice\", \"90dayPrice\"]\n",
    "# itemsToSavePrice = [\"0dayPrice\", captureValue]\n",
    "\n",
    "fileNamePrice = \"priceReturns.csv\"\n",
    "requiredPrice = [\"0dayPrice\"]\n",
    "\n",
    "def manipulateFunction(data):\n",
    "    results =  round(data.div(data['0dayPrice'], axis='index') - 1,3)\n",
    "    return results\n",
    "     \n",
    "createFile(responsePrice, itemsToSavePrice, fileNamePrice, manipulateFunction, requiredPrice)\n",
    "\n",
    "print(\"return results saved to\", fileNamePrice)\n",
    "    \n"
   ]
  },
  {
   "cell_type": "code",
   "execution_count": 41,
   "metadata": {
    "collapsed": false
   },
   "outputs": [
    {
     "name": "stdout",
     "output_type": "stream",
     "text": [
      "(8665, 22)\n",
      "4699 out of 8665 are positive\n"
     ]
    }
   ],
   "source": [
    "captureValue = \"90dayPrice\"\n",
    "resultThreshhold = 0.03\n",
    "\n",
    "priceDf = pd.read_csv(fileNamePrice).set_index(\"id\")\n",
    "fundDf = pd.read_csv(fileNameFund).set_index(\"id\")\n",
    "priceDf = priceDf[[captureValue]]\n",
    "joinDf = priceDf.join(fundDf)\n",
    "\n",
    "# to drop -> joinDf = joinDf.drop(columnName, axis=1)\n",
    "\n",
    "cols = [c for c in joinDf.columns if c.lower()[:7] != 'unnamed']\n",
    "joinDf = joinDf[cols]\n",
    "\n",
    "# output logic    \n",
    "joinDf[joinDf>5] = 5\n",
    "joinDf[joinDf<-5] = -5\n",
    "joinDf.ix[joinDf[captureValue] > resultThreshhold, captureValue] = 1\n",
    "joinDf.ix[joinDf[captureValue] <= resultThreshhold, captureValue] = 0\n",
    "joinDf = joinDf.dropna()\n",
    "\n",
    "print(joinDf.shape)\n",
    "print(joinDf[captureValue][joinDf[captureValue]==1].count(), 'out of', joinDf[captureValue].count(), 'are positive')\n",
    "\n"
   ]
  },
  {
   "cell_type": "code",
   "execution_count": 42,
   "metadata": {
    "collapsed": false
   },
   "outputs": [
    {
     "name": "stdout",
     "output_type": "stream",
     "text": [
      "TN   FP\n",
      "FN   TP\n",
      "[[  85.  686.]\n",
      " [ 110.  852.]]\n",
      "accurracy 0.545297172533\n"
     ]
    }
   ],
   "source": [
    "def modelExec(df):\n",
    "    df = shuffle(df)\n",
    "    train, test = train_test_split(df, test_size = 0.2)\n",
    "    x=train.as_matrix(columns=train.columns[1:])\n",
    "    y=train.as_matrix(columns=train.columns[0:1]).ravel()\n",
    "    x_=test.as_matrix(columns=test.columns[1:])\n",
    "    y_=test.as_matrix(columns=test.columns[0:1]).ravel()\n",
    "    clf = SVC()\n",
    "    clf.fit(x, y)\n",
    "    y_pred = clf.predict(x_)\n",
    "#     print(y_pred.shape)\n",
    "    return {\"cf\": confusion_matrix(y_, y_pred), \"ac\": accuracy_score(y_, y_pred) }\n",
    "\n",
    "sumAc = 0;\n",
    "sumCf = np.zeros(shape=(2,2))\n",
    "numberofIterations = 1\n",
    "for i in range(numberofIterations):\n",
    "    sumAc += modelExec(joinDf)[\"ac\"]\n",
    "    sumCf += modelExec(joinDf)[\"cf\"]\n",
    "\n",
    "print('TN   FP')\n",
    "print('FN   TP')\n",
    "print(sumCf/numberofIterations)\n",
    "print('accurracy', sumAc/numberofIterations)\n",
    "\n"
   ]
  },
  {
   "cell_type": "code",
   "execution_count": 544,
   "metadata": {
    "collapsed": false
   },
   "outputs": [
    {
     "name": "stdout",
     "output_type": "stream",
     "text": [
      "created output file\n"
     ]
    }
   ],
   "source": [
    "# output to file\n",
    "outputFilename = \"output.csv\"\n",
    "joinDf.to_csv(outputFilename)\n",
    "print(\"created output file\")\n"
   ]
  },
  {
   "cell_type": "code",
   "execution_count": null,
   "metadata": {
    "collapsed": false
   },
   "outputs": [],
   "source": [
    "\n"
   ]
  },
  {
   "cell_type": "code",
   "execution_count": null,
   "metadata": {
    "collapsed": true
   },
   "outputs": [],
   "source": []
  }
 ],
 "metadata": {
  "kernelspec": {
   "display_name": "Python 3",
   "language": "python",
   "name": "python3"
  },
  "language_info": {
   "codemirror_mode": {
    "name": "ipython",
    "version": 3
   },
   "file_extension": ".py",
   "mimetype": "text/x-python",
   "name": "python",
   "nbconvert_exporter": "python",
   "pygments_lexer": "ipython3",
   "version": "3.5.1"
  }
 },
 "nbformat": 4,
 "nbformat_minor": 1
}
